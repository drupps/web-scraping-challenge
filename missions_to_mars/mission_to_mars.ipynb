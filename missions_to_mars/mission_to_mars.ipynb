{
 "metadata": {
  "language_info": {
   "codemirror_mode": {
    "name": "ipython",
    "version": 3
   },
   "file_extension": ".py",
   "mimetype": "text/x-python",
   "name": "python",
   "nbconvert_exporter": "python",
   "pygments_lexer": "ipython3",
   "version": "3.6.10-final"
  },
  "orig_nbformat": 2,
  "kernelspec": {
   "name": "python3",
   "display_name": "Python 3"
  }
 },
 "nbformat": 4,
 "nbformat_minor": 2,
 "cells": [
  {
   "cell_type": "code",
   "execution_count": 1,
   "metadata": {},
   "outputs": [],
   "source": [
    "# Imports\n",
    "from bs4 import BeautifulSoup\n",
    "from splinter import Browser\n",
    "import pandas as pd\n",
    "import pymongo"
   ]
  },
  {
   "cell_type": "code",
   "execution_count": 2,
   "metadata": {},
   "outputs": [
    {
     "output_type": "stream",
     "name": "stdout",
     "text": [
      "/usr/local/bin/chromedriver\n"
     ]
    }
   ],
   "source": [
    "!which chromedriver"
   ]
  },
  {
   "cell_type": "code",
   "execution_count": 3,
   "metadata": {},
   "outputs": [],
   "source": [
    "# setting the chromedriver path\n",
    "executable_path = {'executable_path': '/usr/local/bin/chromedriver'}\n",
    "browser = Browser('chrome', **executable_path, headless=False)"
   ]
  },
  {
   "cell_type": "code",
   "execution_count": 4,
   "metadata": {},
   "outputs": [],
   "source": [
    "# URL of page to be scraped\n",
    "url = 'https://mars.nasa.gov/news/?page=0&per_page=40&order=publish_date+desc%2Ccreated_at+desc&search=&category=19%2C165%2C184%2C204&blank_scope=Latest'\n",
    "browser.visit(url)"
   ]
  },
  {
   "cell_type": "code",
   "execution_count": 5,
   "metadata": {},
   "outputs": [
    {
     "output_type": "execute_result",
     "data": {
      "text/plain": [
       "True"
      ]
     },
     "metadata": {},
     "execution_count": 5
    }
   ],
   "source": [
    "browser.is_element_present_by_css('.item_list', wait_time=10) # using wait_time"
   ]
  },
  {
   "cell_type": "code",
   "execution_count": 6,
   "metadata": {},
   "outputs": [],
   "source": [
    "html = browser.html\n",
    "soup = BeautifulSoup(html, 'html.parser')"
   ]
  },
  {
   "cell_type": "code",
   "execution_count": 7,
   "metadata": {
    "tags": [
     "outputPrepend"
    ]
   },
   "outputs": [
    {
     "output_type": "stream",
     "name": "stdout",
     "text": [
      "s-nasas-mars-helicopter/\">\n              Alabama High School Student Names NASA's Mars Helicopter\n             </a>\n            </div>\n           </div>\n           <div class=\"slide slick-slide\" index=\"4\" style=\"width: 332px;\">\n            <div class=\"image_and_description_container\">\n             <a href=\"/news/8645/mars-helicopter-attached-to-nasas-perseverance-rover/\">\n              <div class=\"rollover_description\">\n               <div class=\"rollover_description_inner\">\n                The team also fueled the rover's sky crane to get ready for this summer's history-making launch.\n               </div>\n               <div class=\"overlay_arrow\">\n                <img alt=\"More\" src=\"/assets/overlay-arrow.png\"/>\n               </div>\n              </div>\n              <img alt=\"Mars Helicopter Attached to NASA's Perseverance Rover\" class=\"img-lazy\" data-lazy=\"/system/news_items/list_view_images/8645_PIA23824-RoverWithHelicopter-32x24.jpg\" src=\"/assets/loading_320x240.png\"/>\n             </a>\n            </div>\n            <div class=\"content_title\">\n             <a href=\"/news/8645/mars-helicopter-attached-to-nasas-perseverance-rover/\">\n              Mars Helicopter Attached to NASA's Perseverance Rover\n             </a>\n            </div>\n           </div>\n           <div class=\"slide slick-slide\" index=\"5\" style=\"width: 332px;\">\n            <div class=\"image_and_description_container\">\n             <a href=\"/news/8641/nasas-perseverance-mars-rover-gets-its-wheels-and-air-brakes/\">\n              <div class=\"rollover_description\">\n               <div class=\"rollover_description_inner\">\n                After the rover was shipped from JPL to Kennedy Space Center, the team is getting closer to finalizing the spacecraft for launch later this summer.\n               </div>\n               <div class=\"overlay_arrow\">\n                <img alt=\"More\" src=\"/assets/overlay-arrow.png\"/>\n               </div>\n              </div>\n              <img alt=\"NASA's Perseverance Mars Rover Gets Its Wheels and Air Brakes\" class=\"img-lazy\" data-lazy=\"/system/news_items/list_view_images/8641_PIA-23821-320x240.jpg\" src=\"/assets/loading_320x240.png\"/>\n             </a>\n            </div>\n            <div class=\"content_title\">\n             <a href=\"/news/8641/nasas-perseverance-mars-rover-gets-its-wheels-and-air-brakes/\">\n              NASA's Perseverance Mars Rover Gets Its Wheels and Air Brakes\n             </a>\n            </div>\n           </div>\n           <div class=\"slide slick-slide slick-cloned\" index=\"6\" style=\"width: 332px;\">\n            <div class=\"image_and_description_container\">\n             <a href=\"/news/8716/nasa-to-broadcast-mars-2020-perseverance-launch-prelaunch-activities/\">\n              <div class=\"rollover_description\">\n               <div class=\"rollover_description_inner\">\n                Starting July 27, news activities will cover everything from mission engineering and science to returning samples from Mars to, of course, the launch itself.\n               </div>\n               <div class=\"overlay_arrow\">\n                <img alt=\"More\" src=\"/assets/overlay-arrow.png\"/>\n               </div>\n              </div>\n              <img alt=\"NASA to Broadcast Mars 2020 Perseverance Launch, Prelaunch Activities\" class=\"img-lazy\" src=\"/system/news_items/list_view_images/8716_PIA23499-320x240.jpg?1604366308708\" style=\"opacity: 0.3111;\"/>\n             </a>\n            </div>\n            <div class=\"content_title\">\n             <a href=\"/news/8716/nasa-to-broadcast-mars-2020-perseverance-launch-prelaunch-activities/\">\n              NASA to Broadcast Mars 2020 Perseverance Launch, Prelaunch Activities\n             </a>\n            </div>\n           </div>\n           <div class=\"slide slick-slide slick-cloned\" index=\"7\" style=\"width: 332px;\">\n            <div class=\"image_and_description_container\">\n             <a href=\"/news/8695/the-launch-is-approaching-for-nasas-next-mars-rover-perseverance/\">\n              <div class=\"rollover_description\">\n               <div class=\"rollover_description_inner\">\n                The Red Planet's surface has been visited by eight NASA spacecraft. The ninth will be the first that includes a roundtrip ticket in its flight plan.\n               </div>\n               <div class=\"overlay_arrow\">\n                <img alt=\"More\" src=\"/assets/overlay-arrow.png\"/>\n               </div>\n              </div>\n              <img alt=\"The Launch Is Approaching for NASA's Next Mars Rover, Perseverance\" class=\"img-lazy\" src=\"/system/news_items/list_view_images/8695_24732_PIA23499-226.jpg?1604366308708\" style=\"opacity: 0.3111;\"/>\n             </a>\n            </div>\n            <div class=\"content_title\">\n             <a href=\"/news/8695/the-launch-is-approaching-for-nasas-next-mars-rover-perseverance/\">\n              The Launch Is Approaching for NASA's Next Mars Rover, Perseverance\n             </a>\n            </div>\n           </div>\n           <div class=\"slide slick-slide slick-cloned\" index=\"8\" style=\"width: 332px;\">\n            <div class=\"image_and_description_container\">\n             <a href=\"/news/8692/nasa-to-hold-mars-2020-perseverance-rover-launch-briefing/\">\n              <div class=\"rollover_description\">\n               <div class=\"rollover_description_inner\">\n                Learn more about the agency's next Red Planet mission during a live event on June 17.\n               </div>\n               <div class=\"overlay_arrow\">\n                <img alt=\"More\" src=\"/assets/overlay-arrow.png\"/>\n               </div>\n              </div>\n              <img alt=\"NASA to Hold Mars 2020 Perseverance Rover Launch Briefing\" class=\"img-lazy\" src=\"/system/news_items/list_view_images/8692_PIA23920-320x240.jpg?1604366308708\" style=\"opacity: 0.5904;\"/>\n             </a>\n            </div>\n            <div class=\"content_title\">\n             <a href=\"/news/8692/nasa-to-hold-mars-2020-perseverance-rover-launch-briefing/\">\n              NASA to Hold Mars 2020 Perseverance Rover Launch Briefing\n             </a>\n            </div>\n           </div>\n          </div>\n         </div>\n         <div class=\"grid_layout\">\n          <div class=\"slick-nav_container\">\n           <div class=\"slick-nav\">\n            <button class=\"slick-prev\" data-role=\"none\" style=\"display: block;\" type=\"button\">\n             Previous\n            </button>\n            <button class=\"slick-next\" data-role=\"none\" style=\"display: block;\" type=\"button\">\n             Next\n            </button>\n           </div>\n          </div>\n         </div>\n        </div>\n       </section>\n      </div>\n     </section>\n    </div>\n    <footer id=\"site_footer\">\n     <div class=\"grid_layout\">\n      <section class=\"upper_footer\">\n       <div class=\"share_newsletter_container\">\n        <div class=\"newsletter\">\n         <h2>\n          Get the Mars Newsletter\n         </h2>\n         <form action=\"/newsletter-subscribe\">\n          <input id=\"email\" name=\"email\" placeholder=\"enter email address\" type=\"email\" value=\"\"/>\n          <input data-disable-with=\"\" name=\"commit\" type=\"submit\" value=\"\"/>\n         </form>\n        </div>\n        <div class=\"share\">\n         <h2>\n          Follow the Journey\n         </h2>\n         <div class=\"social_icons\">\n          <!-- AddThis Button BEGIN -->\n          <div class=\"addthis_toolbox addthis_default_style addthis_32x32_style\">\n           <a addthis:userid=\"MarsCuriosity\" class=\"addthis_button_twitter_follow icon at300b\" href=\"//twitter.com/MarsCuriosity\" target=\"_blank\" title=\"Follow on Twitter\">\n            <img alt=\"twitter\" src=\"/assets/twitter_icon@2x.png\"/>\n            <span class=\"addthis_follow_label\">\n             Twitter\n            </span>\n           </a>\n           <a addthis:userid=\"MarsCuriosity\" class=\"addthis_button_facebook_follow icon at300b\" href=\"http://www.facebook.com/MarsCuriosity\" target=\"_blank\" title=\"Follow on Facebook\">\n            <img alt=\"facebook\" src=\"/assets/facebook_icon@2x.png\"/>\n            <span class=\"addthis_follow_label\">\n             Facebook\n            </span>\n           </a>\n           <a addthis:userid=\"nasa\" class=\"addthis_button_instagram_follow icon at300b\" href=\"http://instagram.com/nasa\" target=\"_blank\" title=\"Follow on Instagram\">\n            <img alt=\"instagram\" src=\"/assets/instagram_icon@2x.png\"/>\n            <span class=\"addthis_follow_label\">\n             Instagram\n            </span>\n           </a>\n           <a addthis:url=\"https://mars.nasa.gov/rss/api/?feed=news&amp;category=all&amp;feedtype=rss\" class=\"addthis_button_rss_follow icon at300b\" href=\"https://mars.nasa.gov/rss/api/?feed=news&amp;category=all&amp;feedtype=rss\" target=\"_blank\" title=\"Follow on RSS\">\n            <img alt=\"rss\" src=\"/assets/rss_icon@2x.png\"/>\n            <span class=\"addthis_follow_label\">\n             RSS\n            </span>\n           </a>\n           <div class=\"atclear\">\n           </div>\n          </div>\n         </div>\n         <script src=\"//s7.addthis.com/js/300/addthis_widget.js#pubid=ra-5a690e4c1320e328\">\n         </script>\n        </div>\n       </div>\n       <div class=\"gradient_line\">\n       </div>\n      </section>\n      <section class=\"sitemap\">\n       <div class=\"sitemap_directory\" id=\"sitemap_directory\" style=\"position: relative; height: 339.516px;\">\n        <div class=\"sitemap_block\" style=\"position: absolute; left: 0px; top: 0px;\">\n         <div class=\"footer_sitemap_item\">\n          <h3 class=\"sitemap_title\">\n           <a href=\"/#red_planet\">\n            The Red Planet\n           </a>\n          </h3>\n          <ul>\n           <li>\n            <div class=\"global_subnav_container\">\n             <ul class=\"subnav\">\n              <li>\n               <a href=\"/#red_planet/0\" target=\"_self\">\n                Dashboard\n               </a>\n              </li>\n              <li>\n               <a href=\"/#red_planet/1\" target=\"_self\">\n                Science Goals\n               </a>\n              </li>\n              <li>\n               <a href=\"/#red_planet/2\" target=\"_self\">\n                The Planet\n               </a>\n              </li>\n              <li>\n               <a href=\"/#red_planet/3\" target=\"_self\">\n                Atmosphere\n               </a>\n              </li>\n              <li>\n               <a href=\"/#red_planet/4\" target=\"_self\">\n                Astrobiology\n               </a>\n              </li>\n              <li>\n               <a href=\"/#red_planet/5\" target=\"_self\">\n                Past, Present, Future, Timeline\n               </a>\n              </li>\n             </ul>\n            </div>\n           </li>\n          </ul>\n         </div>\n        </div>\n        <div class=\"sitemap_block\" style=\"position: absolute; left: 194px; top: 0px;\">\n         <div class=\"footer_sitemap_item\">\n          <h3 class=\"sitemap_title\">\n           <a href=\"/#mars_exploration_program\">\n            The Program\n           </a>\n          </h3>\n          <ul>\n           <li>\n            <div class=\"global_subnav_container\">\n             <ul class=\"subnav\">\n              <li>\n               <a href=\"/#mars_exploration_program/0\" target=\"_self\">\n                Mission Statement\n               </a>\n              </li>\n              <li>\n               <a href=\"/#mars_exploration_program/1\" target=\"_self\">\n                About the Program\n               </a>\n              </li>\n              <li>\n               <a href=\"/#mars_exploration_program/2\" target=\"_self\">\n                Organization\n               </a>\n              </li>\n              <li>\n               <a href=\"/#mars_exploration_program/3\" target=\"_self\">\n                Why Mars?\n               </a>\n              </li>\n              <li>\n               <a href=\"/#mars_exploration_program/4\" target=\"_self\">\n                Research Programs\n               </a>\n              </li>\n              <li>\n               <a href=\"/#mars_exploration_program/5\" target=\"_self\">\n                Planetary Resources\n               </a>\n              </li>\n              <li>\n               <a href=\"/#mars_exploration_program/6\" target=\"_self\">\n                Technologies\n               </a>\n              </li>\n             </ul>\n            </div>\n           </li>\n          </ul>\n         </div>\n        </div>\n        <div class=\"sitemap_block\" style=\"position: absolute; left: 388px; top: 0px;\">\n         <div class=\"footer_sitemap_item\">\n          <h3 class=\"sitemap_title\">\n           <a href=\"/#news_and_events\">\n            News &amp; Events\n           </a>\n          </h3>\n          <ul>\n           <li>\n            <div class=\"global_subnav_container\">\n             <ul class=\"subnav\">\n              <li>\n               <a href=\"/news\" target=\"_self\">\n                News\n               </a>\n              </li>\n              <li>\n               <a href=\"/events\" target=\"_self\">\n                Events\n               </a>\n              </li>\n             </ul>\n            </div>\n           </li>\n          </ul>\n         </div>\n        </div>\n        <div class=\"sitemap_block\" style=\"position: absolute; left: 582px; top: 0px;\">\n         <div class=\"footer_sitemap_item\">\n          <h3 class=\"sitemap_title\">\n           <a href=\"/#multimedia\">\n            Multimedia\n           </a>\n          </h3>\n          <ul>\n           <li>\n            <div class=\"global_subnav_container\">\n             <ul class=\"subnav\">\n              <li>\n               <a href=\"/multimedia/images/\" target=\"_self\">\n                Images\n               </a>\n              </li>\n              <li>\n               <a href=\"/multimedia/videos/\" target=\"_self\">\n                Videos\n               </a>\n              </li>\n              <li>\n               <a href=\"/multimedia/more-resources/\" target=\"_self\">\n                More Resources\n               </a>\n              </li>\n             </ul>\n            </div>\n           </li>\n          </ul>\n         </div>\n        </div>\n        <div class=\"sitemap_block\" style=\"position: absolute; left: 776px; top: 0px;\">\n         <div class=\"footer_sitemap_item\">\n          <h3 class=\"sitemap_title\">\n           <a href=\"/#missions_gallery_subnav\">\n            Missions\n           </a>\n          </h3>\n          <ul>\n           <li>\n            <div class=\"global_subnav_container\">\n             <ul class=\"subnav\">\n              <li>\n               <a href=\"/mars-exploration/missions/?category=167\" target=\"_self\">\n                Past\n               </a>\n              </li>\n              <li>\n               <a href=\"/mars-exploration/missions/?category=170\" target=\"_self\">\n                Present\n               </a>\n              </li>\n              <li>\n               <a href=\"/mars-exploration/missions/?category=171\" target=\"_self\">\n                Future\n               </a>\n              </li>\n              <li>\n               <a href=\"/mars-exploration/partners\" target=\"_self\">\n                International Partners\n               </a>\n              </li>\n             </ul>\n            </div>\n           </li>\n          </ul>\n         </div>\n        </div>\n        <div class=\"sitemap_block\" style=\"position: absolute; left: 970px; top: 0px;\">\n         <div class=\"footer_sitemap_item\">\n          <h3 class=\"sitemap_title\">\n           <a href=\"/#more\">\n            More\n           </a>\n          </h3>\n          <ul>\n           <li>\n            <div class=\"global_subnav_container\">\n             <ul class=\"subnav\">\n             </ul>\n            </div>\n           </li>\n          </ul>\n         </div>\n        </div>\n       </div>\n       <div class=\"gradient_line\">\n       </div>\n      </section>\n      <section class=\"lower_footer\">\n       <div class=\"nav_container\">\n        <nav>\n         <ul>\n          <li>\n           <a href=\"http://science.nasa.gov/\" target=\"_blank\">\n            NASA Science Mission Directorate\n           </a>\n          </li>\n          <li>\n           <a href=\"https://www.jpl.nasa.gov/copyrights.php\" target=\"_blank\">\n            Privacy\n           </a>\n          </li>\n          <li>\n           <a href=\"http://www.jpl.nasa.gov/imagepolicy/\" target=\"_blank\">\n            Image Policy\n           </a>\n          </li>\n          <li>\n           <a href=\"https://mars.nasa.gov/feedback/\" target=\"_self\">\n            Feedback\n           </a>\n          </li>\n         </ul>\n        </nav>\n       </div>\n       <div class=\"credits\">\n        <div class=\"footer_brands_top\">\n         <p>\n          Managed by the Mars Exploration Program and the Jet Propulsion Laboratory for NASA’s Science Mission Directorate\n         </p>\n        </div>\n        <!-- .footer_brands -->\n        <!-- %a.jpl{href: \"\", target: \"_blank\"}Institution -->\n        <!-- -->\n        <!-- %a.caltech{href: \"\", target: \"_blank\"}Institution -->\n        <!-- .staff -->\n        <!-- %p -->\n        <!-- - get_staff_for_category(get_field_from_admin_config(:web_staff_category_id)) -->\n        <!-- - @staff.each_with_index do |staff, idx| -->\n        <!-- - unless staff.is_in_footer == 0 -->\n        <!-- = staff.title + \": \" -->\n        <!-- - if staff.contact_link =~ /@/ -->\n        <!-- = mail_to staff.contact_link, staff.name, :subject => \"[#{@site_title}]\" -->\n        <!-- - elsif staff.contact_link.present? -->\n        <!-- = link_to staff.name, staff.contact_link -->\n        <!-- - else -->\n        <!-- = staff.name -->\n        <!-- - unless (idx + 1 == @staff.size) -->\n        <!-- %br -->\n       </div>\n      </section>\n     </div>\n    </footer>\n   </div>\n  </div>\n  <div id=\"_atssh\" style=\"visibility: hidden; height: 1px; width: 1px; position: absolute; top: -9999px; z-index: 100000;\">\n   <iframe id=\"_atssh4\" src=\"https://s7.addthis.com/static/sh.f48a1a04fe8dbf021b4cda1d.html#rand=0.08124699135409852&amp;iit=1604366308756&amp;tmr=load%3D1604366308633%26core%3D1604366308661%26main%3D1604366308753%26ifr%3D1604366308758&amp;cb=0&amp;cdn=0&amp;md=0&amp;kw=Mars%2Cmissions%2CNASA%2Crover%2CCuriosity%2COpportunity%2CInSight%2CMars%20Reconnaissance%20Orbiter%2Cfacts&amp;ab=-&amp;dh=mars.nasa.gov&amp;dr=&amp;du=https%3A%2F%2Fmars.nasa.gov%2Fnews%2F%3Fpage%3D0%26per_page%3D40%26order%3Dpublish_date%2Bdesc%252Ccreated_at%2Bdesc%26search%3D%26category%3D19%252C165%252C184%252C204%26blank_scope%3DLatest&amp;href=https%3A%2F%2Fmars.nasa.gov%2Fnews%2F&amp;dt=News%20%20%E2%80%93%20NASA%E2%80%99s%20Mars%20Exploration%20Program&amp;dbg=0&amp;cap=tc%3D0%26ab%3D0&amp;inst=1&amp;jsl=1&amp;prod=undefined&amp;lng=en&amp;ogt=image%2Cupdated_time%2Ctype%3Darticle%2Curl%2Ctitle%2Cdescription%2Csite_name&amp;pc=men&amp;pub=ra-5a690e4c1320e328&amp;ssl=1&amp;sid=5fa0afe4f401da7a&amp;srf=0.01&amp;ver=300&amp;xck=1&amp;xtr=0&amp;og=site_name%3DNASA%25E2%2580%2599s%2520Mars%2520Exploration%2520Program%26description%3DNASA%25E2%2580%2599s%2520real-time%2520portal%2520for%2520Mars%2520exploration%252C%2520featuring%2520the%2520latest%2520news%252C%2520images%252C%2520and%2520discoveries%2520from%2520the%2520Red%2520Planet.%26title%3DNews%2520%2520%25E2%2580%2593%2520NASA%25E2%2580%2599s%2520Mars%2520Exploration%2520Program%26url%3Dhttps%253A%252F%252Fmars.nasa.gov%252Fnews%253Fpage%253D0%2526per_page%253D40%2526order%253Dpublish_date%252Bdesc%25252Ccreated_at%252Bdesc%2526search%253D%2526category%253D19%25252C165%25252C184%25252C204%2526blank_scope%253DLatest%26type%3Darticle%26updated_time%3D2017-09-22%252019%253A53%253A22%2520UTC%26image%3Dhttps%253A%252F%252Fmars.nasa.gov%252Fsystem%252Fsite_config_values%252Fmeta_share_images%252F1_mars-nasa-gov.jpg&amp;csi=undefined&amp;rev=v8.28.7-wp&amp;ct=1&amp;xld=1&amp;xd=1\" style=\"height: 1px; width: 1px; position: absolute; top: 0px; z-index: 100000; border: 0px; left: 0px;\" title=\"AddThis utility frame\">\n   </iframe>\n  </div>\n  <style id=\"service-icons-0\">\n  </style>\n  <script id=\"_fed_an_ua_tag\" src=\"https://dap.digitalgov.gov/Universal-Federated-Analytics-Min.js?agency=NASA&amp;subagency=JPL-Mars-MEPJPL&amp;pua=UA-9453474-9,UA-118212757-11&amp;dclink=true&amp;sp=searchbox&amp;exts=tif,tiff,wav\" type=\"text/javascript\">\n  </script>\n </body>\n</html>\n"
     ]
    }
   ],
   "source": [
    "# Examine the results, then determine element that contains sought info\n",
    "print(soup.prettify())"
   ]
  },
  {
   "cell_type": "code",
   "execution_count": 8,
   "metadata": {},
   "outputs": [
    {
     "output_type": "stream",
     "name": "stdout",
     "text": [
      "NASA's Perseverance Rover Is Midway to Mars \n"
     ]
    }
   ],
   "source": [
    "# Extract the text of the title & clean it up\n",
    "\n",
    "item_list = soup.find('ul', class_='item_list')\n",
    "news_title = item_list.find('div', class_='content_title').text\n",
    "print(f\"{news_title}\")"
   ]
  },
  {
   "cell_type": "code",
   "execution_count": 9,
   "metadata": {},
   "outputs": [
    {
     "output_type": "stream",
     "name": "stdout",
     "text": [
      "Sometimes half measures can be a good thing – especially on a journey this long. The agency's latest rover only has about 146 million miles left to reach its destination.\n"
     ]
    }
   ],
   "source": [
    "# Extract the text of the paragrah text\n",
    "news_p = item_list.find('div', class_='article_teaser_body').text\n",
    "print(f\"{news_p}\")"
   ]
  },
  {
   "cell_type": "code",
   "execution_count": 10,
   "metadata": {},
   "outputs": [
    {
     "output_type": "execute_result",
     "data": {
      "text/plain": [
       "True"
      ]
     },
     "metadata": {},
     "execution_count": 10
    }
   ],
   "source": [
    "browser.is_element_present_by_css('.item_list', wait_time=10) # using wait_time"
   ]
  },
  {
   "cell_type": "code",
   "execution_count": 11,
   "metadata": {},
   "outputs": [],
   "source": [
    "feature_page_url = \"https://www.jpl.nasa.gov/spaceimages/?search=&category=Mars\"\n",
    "browser.visit(feature_page_url)"
   ]
  },
  {
   "cell_type": "code",
   "execution_count": 12,
   "metadata": {},
   "outputs": [],
   "source": [
    "# Extract the text of the title & clean it up\n",
    "feature_button = browser.find_by_id('full_image')[0].click()\n",
    "\n",
    "# news_title = item_list.find('div', class_='content_title').text\n",
    "# print(f\"{news_title}\")"
   ]
  },
  {
   "cell_type": "code",
   "execution_count": 13,
   "metadata": {},
   "outputs": [
    {
     "output_type": "error",
     "ename": "AttributeError",
     "evalue": "'NoneType' object has no attribute 'find'",
     "traceback": [
      "\u001b[0;31m---------------------------------------------------------------------------\u001b[0m",
      "\u001b[0;31mAttributeError\u001b[0m                            Traceback (most recent call last)",
      "\u001b[0;32m<ipython-input-13-b5f9af9c5a84>\u001b[0m in \u001b[0;36m<module>\u001b[0;34m()\u001b[0m\n\u001b[1;32m      1\u001b[0m \u001b[0mfancybox_lock\u001b[0m \u001b[0;34m=\u001b[0m \u001b[0msoup\u001b[0m\u001b[0;34m.\u001b[0m\u001b[0mfind\u001b[0m\u001b[0;34m(\u001b[0m\u001b[0;34m'div'\u001b[0m\u001b[0;34m,\u001b[0m \u001b[0mid\u001b[0m\u001b[0;34m=\u001b[0m\u001b[0;34m'fancybox-lock'\u001b[0m\u001b[0;34m)\u001b[0m\u001b[0;34m\u001b[0m\u001b[0;34m\u001b[0m\u001b[0m\n\u001b[0;32m----> 2\u001b[0;31m \u001b[0mfeatured_image_url\u001b[0m \u001b[0;34m=\u001b[0m \u001b[0mfancybox_lock\u001b[0m\u001b[0;34m.\u001b[0m\u001b[0mfind\u001b[0m\u001b[0;34m(\u001b[0m\u001b[0;34m'img'\u001b[0m\u001b[0;34m)\u001b[0m\u001b[0;34m.\u001b[0m\u001b[0mattrs\u001b[0m\u001b[0;34m[\u001b[0m\u001b[0;34m'src'\u001b[0m\u001b[0;34m]\u001b[0m\u001b[0;34m\u001b[0m\u001b[0;34m\u001b[0m\u001b[0m\n\u001b[0m",
      "\u001b[0;31mAttributeError\u001b[0m: 'NoneType' object has no attribute 'find'"
     ]
    }
   ],
   "source": [
    "fancybox_lock = soup.find('div', id='fancybox-lock')\n",
    "featured_image_url = fancybox_lock.find('img').attrs['src']"
   ]
  }
 ]
}